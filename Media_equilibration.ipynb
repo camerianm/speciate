{
 "cells": [
  {
   "cell_type": "code",
   "execution_count": 1,
   "metadata": {
    "scrolled": true
   },
   "outputs": [
    {
     "name": "stderr",
     "output_type": "stream",
     "text": [
      "CHNOSZ version 1.3.2 (2019-04-20)\n",
      "reset: creating \"thermo\" object\n",
      "obigt: loading default database with 1841 aqueous, 3360 total species\n",
      "\n",
      "Attaching package: ‘dplyr’\n",
      "\n",
      "The following object is masked from ‘package:CHNOSZ’:\n",
      "\n",
      "    slice\n",
      "\n",
      "The following objects are masked from ‘package:stats’:\n",
      "\n",
      "    filter, lag\n",
      "\n",
      "The following objects are masked from ‘package:base’:\n",
      "\n",
      "    intersect, setdiff, setequal, union\n",
      "\n"
     ]
    }
   ],
   "source": [
    "library(CHNOSZ)\n",
    "library(dplyr)\n",
    "library(stringr)\n",
    "library(tools)"
   ]
  },
  {
   "cell_type": "markdown",
   "metadata": {},
   "source": [
    "## Get databases to cross-reference"
   ]
  },
  {
   "cell_type": "code",
   "execution_count": 2,
   "metadata": {},
   "outputs": [],
   "source": [
    "media <- read.csv(\"from_DG_media_molar_final.csv\", header = T)\n",
    "cpds <- read.delim(\"ModelSEED_compounds.tsv\", header = T)\n",
    "conversion <- read.csv(\"CHNOSZ_SEED_key.csv\", header = T)"
   ]
  },
  {
   "cell_type": "markdown",
   "metadata": {},
   "source": [
    "## ID compounds actually present in media\n",
    "(this part takes the longest, maybe around 30 seconds to 2 minutes)"
   ]
  },
  {
   "cell_type": "code",
   "execution_count": 3,
   "metadata": {},
   "outputs": [
    {
     "name": "stdout",
     "output_type": "stream",
     "text": [
      "[1] \"Linking cpd ID numbers to compound names. One moment...\"\n"
     ]
    }
   ],
   "source": [
    "print(\"Linking cpd ID numbers to compound names. One moment...\")\n",
    "cpds_used <- data.frame()\n",
    "for (cpdID in names(media)) {\n",
    "    if (cpdID %in% cpds$id) {\n",
    "    i <- filter(cpds, str_detect(id, cpdID)==TRUE)\n",
    "    cpds_used <- rbind(i, cpds_used)\n",
    "    }\n",
    "}\n",
    "CHNOSZ_conv <- merge(cpds_used, conversion, by.x=\"abbreviation\", by.y=\"SEED_abbrev\")"
   ]
  },
  {
   "cell_type": "markdown",
   "metadata": {},
   "source": [
    "## Identify which columns we want to avoid doing calculations for (so we can exclude any media that contain them).\n",
    "Also, print out filtering commands. (Hacky, sure... but works well enough.)"
   ]
  },
  {
   "cell_type": "code",
   "execution_count": 4,
   "metadata": {},
   "outputs": [
    {
     "name": "stdout",
     "output_type": "stream",
     "text": [
      "[1] \"Checking which compounds are in CHNOSZ...\"\n"
     ]
    },
    {
     "data": {
      "text/html": [
       "<span style=white-space:pre-wrap>'media_used &lt;- filter(media_usable,  cpd00010==0 , cpd00015==0 , cpd00016==0 , cpd00024==0 , cpd00040==0 , cpd00076==0 , cpd00077==0 , cpd00098==0 , cpd00104==0 , cpd00118==0 , cpd00121==0 , cpd00122==0 , cpd00136==0 , cpd00158==0 , cpd00160==0 , cpd00162==0 , cpd00164==0 , cpd00166==0 , cpd00179==0 , cpd00208==0 , cpd00210==0 , cpd00215==0 , cpd00218==0 , cpd00220==0 , cpd00222==0 , cpd00226==0 , cpd00228==0 , cpd00240==0 , cpd00245==0 , cpd00246==0 , cpd00247==0 , cpd00248==0 , cpd00250==0 , cpd00263==0 , cpd00280==0 , cpd00281==0 , cpd00300==0 , cpd00305==0 , cpd00314==0 , cpd00324==0 , cpd00328==0 , cpd00332==0 , cpd00338==0 , cpd00339==0 , cpd00359==0 , cpd00361==0 , cpd00382==0 , cpd00393==0 , cpd00396==0 , cpd00419==0 , cpd00420==0 , cpd00441==0 , cpd00443==0 , cpd00453==0 , cpd00456==0 , cpd00479==0 , cpd00504==0 , cpd00528==0 , cpd00536==0 , cpd00540==0 , cpd00541==0 , cpd00585==0 , cpd00588==0 , cpd00599==0 , cpd00601==0 , cpd00636==0 , cpd00644==0 , cpd00646==0 , cpd00666==0 , cpd00680==0 , cpd00794==0 , cpd00813==0 , cpd00992==0 , cpd00996==0 , cpd01020==0 , cpd01034==0 , cpd01059==0 , cpd01089==0 , cpd01092==0 , cpd01208==0 , cpd01223==0 , cpd01313==0 , cpd01401==0 , cpd01415==0 , cpd01511==0 , cpd01530==0 , cpd01574==0 , cpd01582==0 , cpd01583==0 , cpd01679==0 , cpd01685==0 , cpd01703==0 , cpd01706==0 , cpd01822==0 , cpd01826==0 , cpd01835==0 , cpd01947==0 , cpd02128==0 , cpd02197==0 , cpd02246==0 , cpd02301==0 , cpd03026==0 , cpd03185==0 , cpd03292==0 , cpd03533==0 , cpd03644==0 , cpd03846==0 , cpd03959==0 , cpd03962==0 , cpd03977==0 , cpd03981==0 , cpd03998==0 , cpd04018==0 , cpd04019==0 , cpd04073==0 , cpd04078==0 , cpd04135==0 , cpd04145==0 , cpd04148==0 , cpd04184==0 , cpd04307==0 , cpd04309==0 , cpd04358==0 , cpd04367==0 , cpd04371==0 , cpd04373==0 , cpd04375==0 , cpd04446==0 , cpd04450==0 , cpd04623==0 , cpd04733==0 , cpd04864==0 , cpd05178==0 , cpd06523==0 , cpd07326==0 , cpd07339==0 , cpd07719==0 , cpd07891==0 , cpd07905==0 , cpd08020==0 , cpd08027==0 , cpd08053==0 , cpd08191==0 , cpd08276==0 , cpd09057==0 , cpd09225==0 , cpd09244==0 , cpd09248==0 , cpd09320==0 , cpd09918==0 , cpd10023==0 , cpd10025==0 , cpd10027==0 , cpd10095==0 , cpd10107==0 , cpd10149==0 , cpd10155==0 , cpd10232==0 , cpd10393==0 , cpd10908==0 , cpd11145==0 , cpd11181==0 , cpd11575==0 , cpd11594==0 , cpd11601==0 , cpd11602==0 , cpd11624==0 , cpd11645==0 , cpd11656==0 , cpd11657==0 , cpd11658==0 , cpd11664==0 , cpd11683==0 , cpd11688==0 , cpd11732==0 , cpd11746==0 , cpd11862==0 , cpd11879==0 , cpd11904==0 , cpd11949==0 , cpd12183==0 , cpd12773==0 , cpd12836==0 , cpd12859==0 , cpd13334==0 , cpd13391==0 , cpd13392==0 , cpd14465==0 , cpd14795==0 , cpd14913==0 , cpd14921==0 , cpd15142==0 , cpd15608 ==0)'</span>"
      ],
      "text/latex": [
       "'media\\_used <- filter(media\\_usable,  cpd00010==0 , cpd00015==0 , cpd00016==0 , cpd00024==0 , cpd00040==0 , cpd00076==0 , cpd00077==0 , cpd00098==0 , cpd00104==0 , cpd00118==0 , cpd00121==0 , cpd00122==0 , cpd00136==0 , cpd00158==0 , cpd00160==0 , cpd00162==0 , cpd00164==0 , cpd00166==0 , cpd00179==0 , cpd00208==0 , cpd00210==0 , cpd00215==0 , cpd00218==0 , cpd00220==0 , cpd00222==0 , cpd00226==0 , cpd00228==0 , cpd00240==0 , cpd00245==0 , cpd00246==0 , cpd00247==0 , cpd00248==0 , cpd00250==0 , cpd00263==0 , cpd00280==0 , cpd00281==0 , cpd00300==0 , cpd00305==0 , cpd00314==0 , cpd00324==0 , cpd00328==0 , cpd00332==0 , cpd00338==0 , cpd00339==0 , cpd00359==0 , cpd00361==0 , cpd00382==0 , cpd00393==0 , cpd00396==0 , cpd00419==0 , cpd00420==0 , cpd00441==0 , cpd00443==0 , cpd00453==0 , cpd00456==0 , cpd00479==0 , cpd00504==0 , cpd00528==0 , cpd00536==0 , cpd00540==0 , cpd00541==0 , cpd00585==0 , cpd00588==0 , cpd00599==0 , cpd00601==0 , cpd00636==0 , cpd00644==0 , cpd00646==0 , cpd00666==0 , cpd00680==0 , cpd00794==0 , cpd00813==0 , cpd00992==0 , cpd00996==0 , cpd01020==0 , cpd01034==0 , cpd01059==0 , cpd01089==0 , cpd01092==0 , cpd01208==0 , cpd01223==0 , cpd01313==0 , cpd01401==0 , cpd01415==0 , cpd01511==0 , cpd01530==0 , cpd01574==0 , cpd01582==0 , cpd01583==0 , cpd01679==0 , cpd01685==0 , cpd01703==0 , cpd01706==0 , cpd01822==0 , cpd01826==0 , cpd01835==0 , cpd01947==0 , cpd02128==0 , cpd02197==0 , cpd02246==0 , cpd02301==0 , cpd03026==0 , cpd03185==0 , cpd03292==0 , cpd03533==0 , cpd03644==0 , cpd03846==0 , cpd03959==0 , cpd03962==0 , cpd03977==0 , cpd03981==0 , cpd03998==0 , cpd04018==0 , cpd04019==0 , cpd04073==0 , cpd04078==0 , cpd04135==0 , cpd04145==0 , cpd04148==0 , cpd04184==0 , cpd04307==0 , cpd04309==0 , cpd04358==0 , cpd04367==0 , cpd04371==0 , cpd04373==0 , cpd04375==0 , cpd04446==0 , cpd04450==0 , cpd04623==0 , cpd04733==0 , cpd04864==0 , cpd05178==0 , cpd06523==0 , cpd07326==0 , cpd07339==0 , cpd07719==0 , cpd07891==0 , cpd07905==0 , cpd08020==0 , cpd08027==0 , cpd08053==0 , cpd08191==0 , cpd08276==0 , cpd09057==0 , cpd09225==0 , cpd09244==0 , cpd09248==0 , cpd09320==0 , cpd09918==0 , cpd10023==0 , cpd10025==0 , cpd10027==0 , cpd10095==0 , cpd10107==0 , cpd10149==0 , cpd10155==0 , cpd10232==0 , cpd10393==0 , cpd10908==0 , cpd11145==0 , cpd11181==0 , cpd11575==0 , cpd11594==0 , cpd11601==0 , cpd11602==0 , cpd11624==0 , cpd11645==0 , cpd11656==0 , cpd11657==0 , cpd11658==0 , cpd11664==0 , cpd11683==0 , cpd11688==0 , cpd11732==0 , cpd11746==0 , cpd11862==0 , cpd11879==0 , cpd11904==0 , cpd11949==0 , cpd12183==0 , cpd12773==0 , cpd12836==0 , cpd12859==0 , cpd13334==0 , cpd13391==0 , cpd13392==0 , cpd14465==0 , cpd14795==0 , cpd14913==0 , cpd14921==0 , cpd15142==0 , cpd15608 ==0)'"
      ],
      "text/markdown": [
       "<span style=white-space:pre-wrap>'media_used &lt;- filter(media_usable,  cpd00010==0 , cpd00015==0 , cpd00016==0 , cpd00024==0 , cpd00040==0 , cpd00076==0 , cpd00077==0 , cpd00098==0 , cpd00104==0 , cpd00118==0 , cpd00121==0 , cpd00122==0 , cpd00136==0 , cpd00158==0 , cpd00160==0 , cpd00162==0 , cpd00164==0 , cpd00166==0 , cpd00179==0 , cpd00208==0 , cpd00210==0 , cpd00215==0 , cpd00218==0 , cpd00220==0 , cpd00222==0 , cpd00226==0 , cpd00228==0 , cpd00240==0 , cpd00245==0 , cpd00246==0 , cpd00247==0 , cpd00248==0 , cpd00250==0 , cpd00263==0 , cpd00280==0 , cpd00281==0 , cpd00300==0 , cpd00305==0 , cpd00314==0 , cpd00324==0 , cpd00328==0 , cpd00332==0 , cpd00338==0 , cpd00339==0 , cpd00359==0 , cpd00361==0 , cpd00382==0 , cpd00393==0 , cpd00396==0 , cpd00419==0 , cpd00420==0 , cpd00441==0 , cpd00443==0 , cpd00453==0 , cpd00456==0 , cpd00479==0 , cpd00504==0 , cpd00528==0 , cpd00536==0 , cpd00540==0 , cpd00541==0 , cpd00585==0 , cpd00588==0 , cpd00599==0 , cpd00601==0 , cpd00636==0 , cpd00644==0 , cpd00646==0 , cpd00666==0 , cpd00680==0 , cpd00794==0 , cpd00813==0 , cpd00992==0 , cpd00996==0 , cpd01020==0 , cpd01034==0 , cpd01059==0 , cpd01089==0 , cpd01092==0 , cpd01208==0 , cpd01223==0 , cpd01313==0 , cpd01401==0 , cpd01415==0 , cpd01511==0 , cpd01530==0 , cpd01574==0 , cpd01582==0 , cpd01583==0 , cpd01679==0 , cpd01685==0 , cpd01703==0 , cpd01706==0 , cpd01822==0 , cpd01826==0 , cpd01835==0 , cpd01947==0 , cpd02128==0 , cpd02197==0 , cpd02246==0 , cpd02301==0 , cpd03026==0 , cpd03185==0 , cpd03292==0 , cpd03533==0 , cpd03644==0 , cpd03846==0 , cpd03959==0 , cpd03962==0 , cpd03977==0 , cpd03981==0 , cpd03998==0 , cpd04018==0 , cpd04019==0 , cpd04073==0 , cpd04078==0 , cpd04135==0 , cpd04145==0 , cpd04148==0 , cpd04184==0 , cpd04307==0 , cpd04309==0 , cpd04358==0 , cpd04367==0 , cpd04371==0 , cpd04373==0 , cpd04375==0 , cpd04446==0 , cpd04450==0 , cpd04623==0 , cpd04733==0 , cpd04864==0 , cpd05178==0 , cpd06523==0 , cpd07326==0 , cpd07339==0 , cpd07719==0 , cpd07891==0 , cpd07905==0 , cpd08020==0 , cpd08027==0 , cpd08053==0 , cpd08191==0 , cpd08276==0 , cpd09057==0 , cpd09225==0 , cpd09244==0 , cpd09248==0 , cpd09320==0 , cpd09918==0 , cpd10023==0 , cpd10025==0 , cpd10027==0 , cpd10095==0 , cpd10107==0 , cpd10149==0 , cpd10155==0 , cpd10232==0 , cpd10393==0 , cpd10908==0 , cpd11145==0 , cpd11181==0 , cpd11575==0 , cpd11594==0 , cpd11601==0 , cpd11602==0 , cpd11624==0 , cpd11645==0 , cpd11656==0 , cpd11657==0 , cpd11658==0 , cpd11664==0 , cpd11683==0 , cpd11688==0 , cpd11732==0 , cpd11746==0 , cpd11862==0 , cpd11879==0 , cpd11904==0 , cpd11949==0 , cpd12183==0 , cpd12773==0 , cpd12836==0 , cpd12859==0 , cpd13334==0 , cpd13391==0 , cpd13392==0 , cpd14465==0 , cpd14795==0 , cpd14913==0 , cpd14921==0 , cpd15142==0 , cpd15608 ==0)'</span>"
      ],
      "text/plain": [
       "[1] \"media_used <- filter(media_usable,  cpd00010==0 , cpd00015==0 , cpd00016==0 , cpd00024==0 , cpd00040==0 , cpd00076==0 , cpd00077==0 , cpd00098==0 , cpd00104==0 , cpd00118==0 , cpd00121==0 , cpd00122==0 , cpd00136==0 , cpd00158==0 , cpd00160==0 , cpd00162==0 , cpd00164==0 , cpd00166==0 , cpd00179==0 , cpd00208==0 , cpd00210==0 , cpd00215==0 , cpd00218==0 , cpd00220==0 , cpd00222==0 , cpd00226==0 , cpd00228==0 , cpd00240==0 , cpd00245==0 , cpd00246==0 , cpd00247==0 , cpd00248==0 , cpd00250==0 , cpd00263==0 , cpd00280==0 , cpd00281==0 , cpd00300==0 , cpd00305==0 , cpd00314==0 , cpd00324==0 , cpd00328==0 , cpd00332==0 , cpd00338==0 , cpd00339==0 , cpd00359==0 , cpd00361==0 , cpd00382==0 , cpd00393==0 , cpd00396==0 , cpd00419==0 , cpd00420==0 , cpd00441==0 , cpd00443==0 , cpd00453==0 , cpd00456==0 , cpd00479==0 , cpd00504==0 , cpd00528==0 , cpd00536==0 , cpd00540==0 , cpd00541==0 , cpd00585==0 , cpd00588==0 , cpd00599==0 , cpd00601==0 , cpd00636==0 , cpd00644==0 , cpd00646==0 , cpd00666==0 , cpd00680==0 , cpd00794==0 , cpd00813==0 , cpd00992==0 , cpd00996==0 , cpd01020==0 , cpd01034==0 , cpd01059==0 , cpd01089==0 , cpd01092==0 , cpd01208==0 , cpd01223==0 , cpd01313==0 , cpd01401==0 , cpd01415==0 , cpd01511==0 , cpd01530==0 , cpd01574==0 , cpd01582==0 , cpd01583==0 , cpd01679==0 , cpd01685==0 , cpd01703==0 , cpd01706==0 , cpd01822==0 , cpd01826==0 , cpd01835==0 , cpd01947==0 , cpd02128==0 , cpd02197==0 , cpd02246==0 , cpd02301==0 , cpd03026==0 , cpd03185==0 , cpd03292==0 , cpd03533==0 , cpd03644==0 , cpd03846==0 , cpd03959==0 , cpd03962==0 , cpd03977==0 , cpd03981==0 , cpd03998==0 , cpd04018==0 , cpd04019==0 , cpd04073==0 , cpd04078==0 , cpd04135==0 , cpd04145==0 , cpd04148==0 , cpd04184==0 , cpd04307==0 , cpd04309==0 , cpd04358==0 , cpd04367==0 , cpd04371==0 , cpd04373==0 , cpd04375==0 , cpd04446==0 , cpd04450==0 , cpd04623==0 , cpd04733==0 , cpd04864==0 , cpd05178==0 , cpd06523==0 , cpd07326==0 , cpd07339==0 , cpd07719==0 , cpd07891==0 , cpd07905==0 , cpd08020==0 , cpd08027==0 , cpd08053==0 , cpd08191==0 , cpd08276==0 , cpd09057==0 , cpd09225==0 , cpd09244==0 , cpd09248==0 , cpd09320==0 , cpd09918==0 , cpd10023==0 , cpd10025==0 , cpd10027==0 , cpd10095==0 , cpd10107==0 , cpd10149==0 , cpd10155==0 , cpd10232==0 , cpd10393==0 , cpd10908==0 , cpd11145==0 , cpd11181==0 , cpd11575==0 , cpd11594==0 , cpd11601==0 , cpd11602==0 , cpd11624==0 , cpd11645==0 , cpd11656==0 , cpd11657==0 , cpd11658==0 , cpd11664==0 , cpd11683==0 , cpd11688==0 , cpd11732==0 , cpd11746==0 , cpd11862==0 , cpd11879==0 , cpd11904==0 , cpd11949==0 , cpd12183==0 , cpd12773==0 , cpd12836==0 , cpd12859==0 , cpd13334==0 , cpd13391==0 , cpd13392==0 , cpd14465==0 , cpd14795==0 , cpd14913==0 , cpd14921==0 , cpd15142==0 , cpd15608 ==0)\""
      ]
     },
     "metadata": {},
     "output_type": "display_data"
    },
    {
     "data": {
      "text/html": [
       "'filtered_media &lt;- select(filtered_media, -c( cpd00010, cpd00015, cpd00016, cpd00024, cpd00040, cpd00076, cpd00077, cpd00098, cpd00104, cpd00118, cpd00121, cpd00122, cpd00136, cpd00158, cpd00160, cpd00162, cpd00164, cpd00166, cpd00179, cpd00208, cpd00210, cpd00215, cpd00218, cpd00220, cpd00222, cpd00226, cpd00228, cpd00240, cpd00245, cpd00246, cpd00247, cpd00248, cpd00250, cpd00263, cpd00280, cpd00281, cpd00300, cpd00305, cpd00314, cpd00324, cpd00328, cpd00332, cpd00338, cpd00339, cpd00359, cpd00361, cpd00382, cpd00393, cpd00396, cpd00419, cpd00420, cpd00441, cpd00443, cpd00453, cpd00456, cpd00479, cpd00504, cpd00528, cpd00536, cpd00540, cpd00541, cpd00585, cpd00588, cpd00599, cpd00601, cpd00636, cpd00644, cpd00646, cpd00666, cpd00680, cpd00794, cpd00813, cpd00992, cpd00996, cpd01020, cpd01034, cpd01059, cpd01089, cpd01092, cpd01208, cpd01223, cpd01313, cpd01401, cpd01415, cpd01511, cpd01530, cpd01574, cpd01582, cpd01583, cpd01679, cpd01685, cpd01703, cpd01706, cpd01822, cpd01826, cpd01835, cpd01947, cpd02128, cpd02197, cpd02246, cpd02301, cpd03026, cpd03185, cpd03292, cpd03533, cpd03644, cpd03846, cpd03959, cpd03962, cpd03977, cpd03981, cpd03998, cpd04018, cpd04019, cpd04073, cpd04078, cpd04135, cpd04145, cpd04148, cpd04184, cpd04307, cpd04309, cpd04358, cpd04367, cpd04371, cpd04373, cpd04375, cpd04446, cpd04450, cpd04623, cpd04733, cpd04864, cpd05178, cpd06523, cpd07326, cpd07339, cpd07719, cpd07891, cpd07905, cpd08020, cpd08027, cpd08053, cpd08191, cpd08276, cpd09057, cpd09225, cpd09244, cpd09248, cpd09320, cpd09918, cpd10023, cpd10025, cpd10027, cpd10095, cpd10107, cpd10149, cpd10155, cpd10232, cpd10393, cpd10908, cpd11145, cpd11181, cpd11575, cpd11594, cpd11601, cpd11602, cpd11624, cpd11645, cpd11656, cpd11657, cpd11658, cpd11664, cpd11683, cpd11688, cpd11732, cpd11746, cpd11862, cpd11879, cpd11904, cpd11949, cpd12183, cpd12773, cpd12836, cpd12859, cpd13334, cpd13391, cpd13392, cpd14465, cpd14795, cpd14913, cpd14921, cpd15142, cpd15608 ))'"
      ],
      "text/latex": [
       "'filtered\\_media <- select(filtered\\_media, -c( cpd00010, cpd00015, cpd00016, cpd00024, cpd00040, cpd00076, cpd00077, cpd00098, cpd00104, cpd00118, cpd00121, cpd00122, cpd00136, cpd00158, cpd00160, cpd00162, cpd00164, cpd00166, cpd00179, cpd00208, cpd00210, cpd00215, cpd00218, cpd00220, cpd00222, cpd00226, cpd00228, cpd00240, cpd00245, cpd00246, cpd00247, cpd00248, cpd00250, cpd00263, cpd00280, cpd00281, cpd00300, cpd00305, cpd00314, cpd00324, cpd00328, cpd00332, cpd00338, cpd00339, cpd00359, cpd00361, cpd00382, cpd00393, cpd00396, cpd00419, cpd00420, cpd00441, cpd00443, cpd00453, cpd00456, cpd00479, cpd00504, cpd00528, cpd00536, cpd00540, cpd00541, cpd00585, cpd00588, cpd00599, cpd00601, cpd00636, cpd00644, cpd00646, cpd00666, cpd00680, cpd00794, cpd00813, cpd00992, cpd00996, cpd01020, cpd01034, cpd01059, cpd01089, cpd01092, cpd01208, cpd01223, cpd01313, cpd01401, cpd01415, cpd01511, cpd01530, cpd01574, cpd01582, cpd01583, cpd01679, cpd01685, cpd01703, cpd01706, cpd01822, cpd01826, cpd01835, cpd01947, cpd02128, cpd02197, cpd02246, cpd02301, cpd03026, cpd03185, cpd03292, cpd03533, cpd03644, cpd03846, cpd03959, cpd03962, cpd03977, cpd03981, cpd03998, cpd04018, cpd04019, cpd04073, cpd04078, cpd04135, cpd04145, cpd04148, cpd04184, cpd04307, cpd04309, cpd04358, cpd04367, cpd04371, cpd04373, cpd04375, cpd04446, cpd04450, cpd04623, cpd04733, cpd04864, cpd05178, cpd06523, cpd07326, cpd07339, cpd07719, cpd07891, cpd07905, cpd08020, cpd08027, cpd08053, cpd08191, cpd08276, cpd09057, cpd09225, cpd09244, cpd09248, cpd09320, cpd09918, cpd10023, cpd10025, cpd10027, cpd10095, cpd10107, cpd10149, cpd10155, cpd10232, cpd10393, cpd10908, cpd11145, cpd11181, cpd11575, cpd11594, cpd11601, cpd11602, cpd11624, cpd11645, cpd11656, cpd11657, cpd11658, cpd11664, cpd11683, cpd11688, cpd11732, cpd11746, cpd11862, cpd11879, cpd11904, cpd11949, cpd12183, cpd12773, cpd12836, cpd12859, cpd13334, cpd13391, cpd13392, cpd14465, cpd14795, cpd14913, cpd14921, cpd15142, cpd15608 ))'"
      ],
      "text/markdown": [
       "'filtered_media &lt;- select(filtered_media, -c( cpd00010, cpd00015, cpd00016, cpd00024, cpd00040, cpd00076, cpd00077, cpd00098, cpd00104, cpd00118, cpd00121, cpd00122, cpd00136, cpd00158, cpd00160, cpd00162, cpd00164, cpd00166, cpd00179, cpd00208, cpd00210, cpd00215, cpd00218, cpd00220, cpd00222, cpd00226, cpd00228, cpd00240, cpd00245, cpd00246, cpd00247, cpd00248, cpd00250, cpd00263, cpd00280, cpd00281, cpd00300, cpd00305, cpd00314, cpd00324, cpd00328, cpd00332, cpd00338, cpd00339, cpd00359, cpd00361, cpd00382, cpd00393, cpd00396, cpd00419, cpd00420, cpd00441, cpd00443, cpd00453, cpd00456, cpd00479, cpd00504, cpd00528, cpd00536, cpd00540, cpd00541, cpd00585, cpd00588, cpd00599, cpd00601, cpd00636, cpd00644, cpd00646, cpd00666, cpd00680, cpd00794, cpd00813, cpd00992, cpd00996, cpd01020, cpd01034, cpd01059, cpd01089, cpd01092, cpd01208, cpd01223, cpd01313, cpd01401, cpd01415, cpd01511, cpd01530, cpd01574, cpd01582, cpd01583, cpd01679, cpd01685, cpd01703, cpd01706, cpd01822, cpd01826, cpd01835, cpd01947, cpd02128, cpd02197, cpd02246, cpd02301, cpd03026, cpd03185, cpd03292, cpd03533, cpd03644, cpd03846, cpd03959, cpd03962, cpd03977, cpd03981, cpd03998, cpd04018, cpd04019, cpd04073, cpd04078, cpd04135, cpd04145, cpd04148, cpd04184, cpd04307, cpd04309, cpd04358, cpd04367, cpd04371, cpd04373, cpd04375, cpd04446, cpd04450, cpd04623, cpd04733, cpd04864, cpd05178, cpd06523, cpd07326, cpd07339, cpd07719, cpd07891, cpd07905, cpd08020, cpd08027, cpd08053, cpd08191, cpd08276, cpd09057, cpd09225, cpd09244, cpd09248, cpd09320, cpd09918, cpd10023, cpd10025, cpd10027, cpd10095, cpd10107, cpd10149, cpd10155, cpd10232, cpd10393, cpd10908, cpd11145, cpd11181, cpd11575, cpd11594, cpd11601, cpd11602, cpd11624, cpd11645, cpd11656, cpd11657, cpd11658, cpd11664, cpd11683, cpd11688, cpd11732, cpd11746, cpd11862, cpd11879, cpd11904, cpd11949, cpd12183, cpd12773, cpd12836, cpd12859, cpd13334, cpd13391, cpd13392, cpd14465, cpd14795, cpd14913, cpd14921, cpd15142, cpd15608 ))'"
      ],
      "text/plain": [
       "[1] \"filtered_media <- select(filtered_media, -c( cpd00010, cpd00015, cpd00016, cpd00024, cpd00040, cpd00076, cpd00077, cpd00098, cpd00104, cpd00118, cpd00121, cpd00122, cpd00136, cpd00158, cpd00160, cpd00162, cpd00164, cpd00166, cpd00179, cpd00208, cpd00210, cpd00215, cpd00218, cpd00220, cpd00222, cpd00226, cpd00228, cpd00240, cpd00245, cpd00246, cpd00247, cpd00248, cpd00250, cpd00263, cpd00280, cpd00281, cpd00300, cpd00305, cpd00314, cpd00324, cpd00328, cpd00332, cpd00338, cpd00339, cpd00359, cpd00361, cpd00382, cpd00393, cpd00396, cpd00419, cpd00420, cpd00441, cpd00443, cpd00453, cpd00456, cpd00479, cpd00504, cpd00528, cpd00536, cpd00540, cpd00541, cpd00585, cpd00588, cpd00599, cpd00601, cpd00636, cpd00644, cpd00646, cpd00666, cpd00680, cpd00794, cpd00813, cpd00992, cpd00996, cpd01020, cpd01034, cpd01059, cpd01089, cpd01092, cpd01208, cpd01223, cpd01313, cpd01401, cpd01415, cpd01511, cpd01530, cpd01574, cpd01582, cpd01583, cpd01679, cpd01685, cpd01703, cpd01706, cpd01822, cpd01826, cpd01835, cpd01947, cpd02128, cpd02197, cpd02246, cpd02301, cpd03026, cpd03185, cpd03292, cpd03533, cpd03644, cpd03846, cpd03959, cpd03962, cpd03977, cpd03981, cpd03998, cpd04018, cpd04019, cpd04073, cpd04078, cpd04135, cpd04145, cpd04148, cpd04184, cpd04307, cpd04309, cpd04358, cpd04367, cpd04371, cpd04373, cpd04375, cpd04446, cpd04450, cpd04623, cpd04733, cpd04864, cpd05178, cpd06523, cpd07326, cpd07339, cpd07719, cpd07891, cpd07905, cpd08020, cpd08027, cpd08053, cpd08191, cpd08276, cpd09057, cpd09225, cpd09244, cpd09248, cpd09320, cpd09918, cpd10023, cpd10025, cpd10027, cpd10095, cpd10107, cpd10149, cpd10155, cpd10232, cpd10393, cpd10908, cpd11145, cpd11181, cpd11575, cpd11594, cpd11601, cpd11602, cpd11624, cpd11645, cpd11656, cpd11657, cpd11658, cpd11664, cpd11683, cpd11688, cpd11732, cpd11746, cpd11862, cpd11879, cpd11904, cpd11949, cpd12183, cpd12773, cpd12836, cpd12859, cpd13334, cpd13391, cpd13392, cpd14465, cpd14795, cpd14913, cpd14921, cpd15142, cpd15608 ))\""
      ]
     },
     "metadata": {},
     "output_type": "display_data"
    }
   ],
   "source": [
    "print(\"Checking which compounds are in CHNOSZ...\")\n",
    "not_used <-  list()\n",
    "media_usable <- media\n",
    "for (cpd in names(media)){\n",
    "    if (all(str_detect(CHNOSZ_conv$id, cpd)==FALSE) && (str_detect(cpd,'cpd'))){\n",
    "        not_used <- c(not_used, cpd)\n",
    "    }\n",
    "}\n",
    "filter_command <- paste('media_used <- filter(media_usable, ', paste(not_used, collapse='==0 , '), '==0)')\n",
    "cols_to_remove <- paste('filtered_media <- select(filtered_media, -c(', paste(not_used, collapse=', '), '))')\n",
    "filter_command\n",
    "cols_to_remove"
   ]
  },
  {
   "cell_type": "markdown",
   "metadata": {},
   "source": [
    "## Reduce our media list to only the compounds in CHNOSZ...\n",
    "...by copying and pasting what prints from filter_command and cols_to_remove.\n",
    "Again, hacky, but works well enough.\n",
    "First, we remove from consideration the media (rows) that require compounds missing from CHNOSZ.\n",
    "Only then can we safely remove those compound columns from consideration."
   ]
  },
  {
   "cell_type": "code",
   "execution_count": 5,
   "metadata": {},
   "outputs": [
    {
     "name": "stdout",
     "output_type": "stream",
     "text": [
      "[1] \"Removing media which require compounds missing from CHNOSZ...\"\n",
      "[1] \"...then removing those compounds from consideration...\"\n",
      "[1] \"done!\"\n"
     ]
    }
   ],
   "source": [
    "print('Removing media which require compounds missing from CHNOSZ...')\n",
    "filtered_media <- filter(media_usable,  cpd00010==0 , cpd00015==0 , cpd00016==0 , cpd00024==0 , cpd00040==0 , cpd00076==0 , cpd00077==0 , cpd00098==0 , cpd00104==0 , cpd00118==0 , cpd00121==0 , cpd00122==0 , cpd00136==0 , cpd00158==0 , cpd00160==0 , cpd00162==0 , cpd00164==0 , cpd00166==0 , cpd00179==0 , cpd00208==0 , cpd00210==0 , cpd00215==0 , cpd00218==0 , cpd00220==0 , cpd00222==0 , cpd00226==0 , cpd00228==0 , cpd00240==0 , cpd00245==0 , cpd00246==0 , cpd00247==0 , cpd00248==0 , cpd00250==0 , cpd00263==0 , cpd00280==0 , cpd00281==0 , cpd00300==0 , cpd00305==0 , cpd00314==0 , cpd00324==0 , cpd00328==0 , cpd00332==0 , cpd00338==0 , cpd00339==0 , cpd00359==0 , cpd00361==0 , cpd00382==0 , cpd00393==0 , cpd00396==0 , cpd00419==0 , cpd00420==0 , cpd00441==0 , cpd00443==0 , cpd00453==0 , cpd00456==0 , cpd00479==0 , cpd00504==0 , cpd00528==0 , cpd00536==0 , cpd00540==0 , cpd00541==0 , cpd00585==0 , cpd00588==0 , cpd00599==0 , cpd00601==0 , cpd00636==0 , cpd00644==0 , cpd00646==0 , cpd00666==0 , cpd00680==0 , cpd00794==0 , cpd00813==0 , cpd00992==0 , cpd00996==0 , cpd01020==0 , cpd01034==0 , cpd01059==0 , cpd01089==0 , cpd01092==0 , cpd01208==0 , cpd01223==0 , cpd01313==0 , cpd01401==0 , cpd01415==0 , cpd01511==0 , cpd01530==0 , cpd01574==0 , cpd01582==0 , cpd01583==0 , cpd01679==0 , cpd01685==0 , cpd01703==0 , cpd01706==0 , cpd01822==0 , cpd01826==0 , cpd01835==0 , cpd01947==0 , cpd02128==0 , cpd02197==0 , cpd02246==0 , cpd02301==0 , cpd03026==0 , cpd03185==0 , cpd03292==0 , cpd03533==0 , cpd03644==0 , cpd03846==0 , cpd03959==0 , cpd03962==0 , cpd03977==0 , cpd03981==0 , cpd03998==0 , cpd04018==0 , cpd04019==0 , cpd04073==0 , cpd04078==0 , cpd04135==0 , cpd04145==0 , cpd04148==0 , cpd04184==0 , cpd04307==0 , cpd04309==0 , cpd04358==0 , cpd04367==0 , cpd04371==0 , cpd04373==0 , cpd04375==0 , cpd04446==0 , cpd04450==0 , cpd04623==0 , cpd04733==0 , cpd04864==0 , cpd05178==0 , cpd06523==0 , cpd07326==0 , cpd07339==0 , cpd07719==0 , cpd07891==0 , cpd07905==0 , cpd08020==0 , cpd08027==0 , cpd08053==0 , cpd08191==0 , cpd08276==0 , cpd09057==0 , cpd09225==0 , cpd09244==0 , cpd09248==0 , cpd09320==0 , cpd09918==0 , cpd10023==0 , cpd10025==0 , cpd10027==0 , cpd10095==0 , cpd10107==0 , cpd10149==0 , cpd10155==0 , cpd10232==0 , cpd10393==0 , cpd10908==0 , cpd11145==0 , cpd11181==0 , cpd11575==0 , cpd11594==0 , cpd11601==0 , cpd11602==0 , cpd11624==0 , cpd11645==0 , cpd11656==0 , cpd11657==0 , cpd11658==0 , cpd11664==0 , cpd11683==0 , cpd11688==0 , cpd11732==0 , cpd11746==0 , cpd11862==0 , cpd11879==0 , cpd11904==0 , cpd11949==0 , cpd12183==0 , cpd12773==0 , cpd12836==0 , cpd12859==0 , cpd13334==0 , cpd13391==0 , cpd13392==0 , cpd14465==0 , cpd14795==0 , cpd14913==0 , cpd14921==0 , cpd15142==0 , cpd15608 ==0)\n",
    "print('...then removing those compounds from consideration...')\n",
    "filtered_media <- select(filtered_media, -c( cpd00010, cpd00015, cpd00016, cpd00024, cpd00040, cpd00076, cpd00077, cpd00098, cpd00104, cpd00118, cpd00121, cpd00122, cpd00136, cpd00158, cpd00160, cpd00162, cpd00164, cpd00166, cpd00179, cpd00208, cpd00210, cpd00215, cpd00218, cpd00220, cpd00222, cpd00226, cpd00228, cpd00240, cpd00245, cpd00246, cpd00247, cpd00248, cpd00250, cpd00263, cpd00280, cpd00281, cpd00300, cpd00305, cpd00314, cpd00324, cpd00328, cpd00332, cpd00338, cpd00339, cpd00359, cpd00361, cpd00382, cpd00393, cpd00396, cpd00419, cpd00420, cpd00441, cpd00443, cpd00453, cpd00456, cpd00479, cpd00504, cpd00528, cpd00536, cpd00540, cpd00541, cpd00585, cpd00588, cpd00599, cpd00601, cpd00636, cpd00644, cpd00646, cpd00666, cpd00680, cpd00794, cpd00813, cpd00992, cpd00996, cpd01020, cpd01034, cpd01059, cpd01089, cpd01092, cpd01208, cpd01223, cpd01313, cpd01401, cpd01415, cpd01511, cpd01530, cpd01574, cpd01582, cpd01583, cpd01679, cpd01685, cpd01703, cpd01706, cpd01822, cpd01826, cpd01835, cpd01947, cpd02128, cpd02197, cpd02246, cpd02301, cpd03026, cpd03185, cpd03292, cpd03533, cpd03644, cpd03846, cpd03959, cpd03962, cpd03977, cpd03981, cpd03998, cpd04018, cpd04019, cpd04073, cpd04078, cpd04135, cpd04145, cpd04148, cpd04184, cpd04307, cpd04309, cpd04358, cpd04367, cpd04371, cpd04373, cpd04375, cpd04446, cpd04450, cpd04623, cpd04733, cpd04864, cpd05178, cpd06523, cpd07326, cpd07339, cpd07719, cpd07891, cpd07905, cpd08020, cpd08027, cpd08053, cpd08191, cpd08276, cpd09057, cpd09225, cpd09244, cpd09248, cpd09320, cpd09918, cpd10023, cpd10025, cpd10027, cpd10095, cpd10107, cpd10149, cpd10155, cpd10232, cpd10393, cpd10908, cpd11145, cpd11181, cpd11575, cpd11594, cpd11601, cpd11602, cpd11624, cpd11645, cpd11656, cpd11657, cpd11658, cpd11664, cpd11683, cpd11688, cpd11732, cpd11746, cpd11862, cpd11879, cpd11904, cpd11949, cpd12183, cpd12773, cpd12836, cpd12859, cpd13334, cpd13391, cpd13392, cpd14465, cpd14795, cpd14913, cpd14921, cpd15142, cpd15608 ))\n",
    "print('done!')"
   ]
  },
  {
   "cell_type": "markdown",
   "metadata": {},
   "source": [
    "## ...then remove compounds which are found in CHNOSZ, but are not present in the media."
   ]
  },
  {
   "cell_type": "code",
   "execution_count": 6,
   "metadata": {},
   "outputs": [
    {
     "name": "stdout",
     "output_type": "stream",
     "text": [
      "[1] \"Removing compounds not actually used in any media...\"\n",
      "[1] \"done!\"\n"
     ]
    }
   ],
   "source": [
    "print('Removing compounds not actually used in any media...')\n",
    "cpds <- data.frame(\"nonzero\" = colSums((filtered_media)[-c(1,2)])==0)\n",
    "cpds['cpd'] <- rownames(cpds)\n",
    "cpds <- filter(cpds, nonzero==TRUE)$cpd\n",
    "cpds_not_used_2 <- paste('filtered_media <- select(filtered_media, -c(', paste(cpds, collapse=', '), '))')\n",
    "filtered_media <- select(filtered_media, -c( cpd00007, cpd00011, cpd00012, cpd00021, cpd00033, cpd00035, cpd00039, cpd00047, cpd00060, cpd00066, cpd00067, cpd00075, cpd00106, cpd00107, cpd00128, cpd00129, cpd00133, cpd00139, cpd00141, cpd00154, cpd00159, cpd00161, cpd00178, cpd00184, cpd00204, cpd00207, cpd00211, cpd00224, cpd00308, cpd00322, cpd00367, cpd00379, cpd00386, cpd00411, cpd00450, cpd00547, cpd00552, cpd00572, cpd00618, cpd00637, cpd00797, cpd00998, cpd01007, cpd01024, cpd01041, cpd01042, cpd01048, cpd01079, cpd01080, cpd01087, cpd01112, cpd01269, cpd01391, cpd01642, cpd01741, cpd01834, cpd03387, cpd03396, cpd03836, cpd03994, cpd04166, cpd04877, cpd05267, cpd09249, cpd09400, cpd09693, cpd09695, cpd11161, cpd11640, cpd15574 ))\n",
    "print('done!')"
   ]
  },
  {
   "cell_type": "markdown",
   "metadata": {},
   "source": [
    "## Replace compound numbers with CHNOSZ names\n",
    "Keep in mind that SEED names sometimes have stereochemistry embedded, but CHNOSZ doesn't distinguish enantiomers."
   ]
  },
  {
   "cell_type": "code",
   "execution_count": 7,
   "metadata": {},
   "outputs": [
    {
     "name": "stdout",
     "output_type": "stream",
     "text": [
      "   Var1          Var2                Freq\n",
      "1                   X    Max.   :3625.0  \n",
      "2                 H2O    Max.   :1.0000  \n",
      "3            NAD(ox)- Max.   :1.511e-04  \n",
      "4              HPO4-2   Max.   :1.00383  \n",
      "5                NH4+    Max.   :1.8868  \n",
      "6            pyruvate Max.   :0.0909091  \n",
      "7           glutamate Max.   :0.0295858  \n",
      "8             glucose  Max.   :0.666667  \n",
      "9             acetate  Max.   :0.121951  \n",
      "10               Mn+2 Max.   :1.325e-02  \n",
      "11               Zn+2 Max.   :3.472e-03  \n",
      "12        succinate-2 Max.   :0.0517241  \n",
      "13          aspartate Max.   :6.452e-03  \n",
      "14        glutathione Max.   :3.236e-03  \n",
      "15              SO4-2 Max.   :0.2948326  \n",
      "16           arginine Max.   :5.714e-03  \n",
      "17          glutamine Max.   :9.589e-02  \n",
      "18             serine Max.   :9.524e-02  \n",
      "19               Cu+2 Max.   :2.002e-03  \n",
      "20          ascorbate Max.   :2.525e-03  \n",
      "21               Ca+2  Max.   :0.495049  \n",
      "22         tryptophan Max.   :4.902e-03  \n",
      "23               urea Max.   :0.3333333  \n",
      "24             sulfur  Max.   :0.312500  \n",
      "25              HSO3- Max.   :9.615e-04  \n",
      "26           fructose Max.   :2.778e-03  \n",
      "27           cysteine Max.   :8.264e-03  \n",
      "28                Cl-   Max.   :6.08890  \n",
      "29           glycerol  Max.   :0.543478  \n",
      "30          galactose Max.   :0.0555556  \n",
      "31           methanol  Max.   :0.625000  \n",
      "32          histidine Max.   :7.742e-02  \n",
      "33           malate-2 Max.   :4.258e-02  \n",
      "34         asparagine Max.   :0.0169186  \n",
      "35          citrate-3 Max.   :0.0141509  \n",
      "36               Co+2 Max.   :2.102e-04  \n",
      "37            thymine Max.   :3.175e-04  \n",
      "38           benzoate Max.   :1.653e-02  \n",
      "39            oxalate Max.   :0.1415094  \n",
      "40        methanamine Max.   :0.0937500  \n",
      "41                 K+  Max.   :1.452107  \n",
      "42               NO3- Max.   :0.0990099  \n",
      "43                HS- Max.   :0.0012328  \n",
      "44              HCO3-   Max.   :0.99949  \n",
      "45               Ni+2 Max.   :1.550e-03  \n",
      "46               Mg+2   Max.   :1.06383  \n",
      "47             HS2O3- Max.   :0.0402010  \n",
      "48            ethanol Max.   :1.500e-02  \n",
      "49       n-pentanoate Max.   :4.950e-02  \n",
      "50                Br- Max.   :6.068e-03  \n",
      "51                Na+    Max.   :6.0753  \n",
      "52            lactate Max.   :0.0892857  \n",
      "53        n-hexanoate Max.   :1.739e-02  \n",
      "54               SCN- Max.   :2.577e-03  \n",
      "55             S4O6-2 Max.   :1.656e-02  \n",
      "56        n-butanoate Max.   :5.747e-02  \n",
      "57        citric acid Max.   :7.937e-03  \n",
      "58               Fe+2 Max.   :0.1551367  \n",
      "59               Fe+3 Max.   :7.605e-03  \n",
      "60             MoO4-2 Max.   :2.790e-05  \n"
     ]
    }
   ],
   "source": [
    "filtered_media <- filter(media_usable,  cpd00010==0 , cpd00015==0 , cpd00016==0 , cpd00024==0 , cpd00040==0 , cpd00076==0 , cpd00077==0 , cpd00098==0 , cpd00104==0 , cpd00118==0 , cpd00121==0 , cpd00122==0 , cpd00136==0 , cpd00158==0 , cpd00160==0 , cpd00162==0 , cpd00164==0 , cpd00166==0 , cpd00179==0 , cpd00208==0 , cpd00210==0 , cpd00215==0 , cpd00218==0 , cpd00220==0 , cpd00222==0 , cpd00226==0 , cpd00228==0 , cpd00240==0 , cpd00245==0 , cpd00246==0 , cpd00247==0 , cpd00248==0 , cpd00250==0 , cpd00263==0 , cpd00280==0 , cpd00281==0 , cpd00300==0 , cpd00305==0 , cpd00314==0 , cpd00324==0 , cpd00328==0 , cpd00332==0 , cpd00338==0 , cpd00339==0 , cpd00359==0 , cpd00361==0 , cpd00382==0 , cpd00393==0 , cpd00396==0 , cpd00419==0 , cpd00420==0 , cpd00441==0 , cpd00443==0 , cpd00453==0 , cpd00456==0 , cpd00479==0 , cpd00504==0 , cpd00528==0 , cpd00536==0 , cpd00540==0 , cpd00541==0 , cpd00585==0 , cpd00588==0 , cpd00599==0 , cpd00601==0 , cpd00636==0 , cpd00644==0 , cpd00646==0 , cpd00666==0 , cpd00680==0 , cpd00794==0 , cpd00813==0 , cpd00992==0 , cpd00996==0 , cpd01020==0 , cpd01034==0 , cpd01059==0 , cpd01089==0 , cpd01092==0 , cpd01208==0 , cpd01223==0 , cpd01313==0 , cpd01401==0 , cpd01415==0 , cpd01511==0 , cpd01530==0 , cpd01574==0 , cpd01582==0 , cpd01583==0 , cpd01679==0 , cpd01685==0 , cpd01703==0 , cpd01706==0 , cpd01822==0 , cpd01826==0 , cpd01835==0 , cpd01947==0 , cpd02128==0 , cpd02197==0 , cpd02246==0 , cpd02301==0 , cpd03026==0 , cpd03185==0 , cpd03292==0 , cpd03533==0 , cpd03644==0 , cpd03846==0 , cpd03959==0 , cpd03962==0 , cpd03977==0 , cpd03981==0 , cpd03998==0 , cpd04018==0 , cpd04019==0 , cpd04073==0 , cpd04078==0 , cpd04135==0 , cpd04145==0 , cpd04148==0 , cpd04184==0 , cpd04307==0 , cpd04309==0 , cpd04358==0 , cpd04367==0 , cpd04371==0 , cpd04373==0 , cpd04375==0 , cpd04446==0 , cpd04450==0 , cpd04623==0 , cpd04733==0 , cpd04864==0 , cpd05178==0 , cpd06523==0 , cpd07326==0 , cpd07339==0 , cpd07719==0 , cpd07891==0 , cpd07905==0 , cpd08020==0 , cpd08027==0 , cpd08053==0 , cpd08191==0 , cpd08276==0 , cpd09057==0 , cpd09225==0 , cpd09244==0 , cpd09248==0 , cpd09320==0 , cpd09918==0 , cpd10023==0 , cpd10025==0 , cpd10027==0 , cpd10095==0 , cpd10107==0 , cpd10149==0 , cpd10155==0 , cpd10232==0 , cpd10393==0 , cpd10908==0 , cpd11145==0 , cpd11181==0 , cpd11575==0 , cpd11594==0 , cpd11601==0 , cpd11602==0 , cpd11624==0 , cpd11645==0 , cpd11656==0 , cpd11657==0 , cpd11658==0 , cpd11664==0 , cpd11683==0 , cpd11688==0 , cpd11732==0 , cpd11746==0 , cpd11862==0 , cpd11879==0 , cpd11904==0 , cpd11949==0 , cpd12183==0 , cpd12773==0 , cpd12836==0 , cpd12859==0 , cpd13334==0 , cpd13391==0 , cpd13392==0 , cpd14465==0 , cpd14795==0 , cpd14913==0 , cpd14921==0 , cpd15142==0 , cpd15608 ==0)\n",
    "filtered_media <- select(filtered_media, -c( cpd00010, cpd00015, cpd00016, cpd00024, cpd00040, cpd00076, cpd00077, cpd00098, cpd00104, cpd00118, cpd00121, cpd00122, cpd00136, cpd00158, cpd00160, cpd00162, cpd00164, cpd00166, cpd00179, cpd00208, cpd00210, cpd00215, cpd00218, cpd00220, cpd00222, cpd00226, cpd00228, cpd00240, cpd00245, cpd00246, cpd00247, cpd00248, cpd00250, cpd00263, cpd00280, cpd00281, cpd00300, cpd00305, cpd00314, cpd00324, cpd00328, cpd00332, cpd00338, cpd00339, cpd00359, cpd00361, cpd00382, cpd00393, cpd00396, cpd00419, cpd00420, cpd00441, cpd00443, cpd00453, cpd00456, cpd00479, cpd00504, cpd00528, cpd00536, cpd00540, cpd00541, cpd00585, cpd00588, cpd00599, cpd00601, cpd00636, cpd00644, cpd00646, cpd00666, cpd00680, cpd00794, cpd00813, cpd00992, cpd00996, cpd01020, cpd01034, cpd01059, cpd01089, cpd01092, cpd01208, cpd01223, cpd01313, cpd01401, cpd01415, cpd01511, cpd01530, cpd01574, cpd01582, cpd01583, cpd01679, cpd01685, cpd01703, cpd01706, cpd01822, cpd01826, cpd01835, cpd01947, cpd02128, cpd02197, cpd02246, cpd02301, cpd03026, cpd03185, cpd03292, cpd03533, cpd03644, cpd03846, cpd03959, cpd03962, cpd03977, cpd03981, cpd03998, cpd04018, cpd04019, cpd04073, cpd04078, cpd04135, cpd04145, cpd04148, cpd04184, cpd04307, cpd04309, cpd04358, cpd04367, cpd04371, cpd04373, cpd04375, cpd04446, cpd04450, cpd04623, cpd04733, cpd04864, cpd05178, cpd06523, cpd07326, cpd07339, cpd07719, cpd07891, cpd07905, cpd08020, cpd08027, cpd08053, cpd08191, cpd08276, cpd09057, cpd09225, cpd09244, cpd09248, cpd09320, cpd09918, cpd10023, cpd10025, cpd10027, cpd10095, cpd10107, cpd10149, cpd10155, cpd10232, cpd10393, cpd10908, cpd11145, cpd11181, cpd11575, cpd11594, cpd11601, cpd11602, cpd11624, cpd11645, cpd11656, cpd11657, cpd11658, cpd11664, cpd11683, cpd11688, cpd11732, cpd11746, cpd11862, cpd11879, cpd11904, cpd11949, cpd12183, cpd12773, cpd12836, cpd12859, cpd13334, cpd13391, cpd13392, cpd14465, cpd14795, cpd14913, cpd14921, cpd15142, cpd15608 ))\n",
    "filtered_media <- select(filtered_media, -c( cpd00007, cpd00011, cpd00012, cpd00021, cpd00033, cpd00035, cpd00039, cpd00047, cpd00060, cpd00066, cpd00067, cpd00075, cpd00106, cpd00107, cpd00128, cpd00129, cpd00133, cpd00139, cpd00141, cpd00154, cpd00159, cpd00161, cpd00178, cpd00184, cpd00204, cpd00207, cpd00211, cpd00224, cpd00308, cpd00322, cpd00367, cpd00379, cpd00386, cpd00411, cpd00450, cpd00547, cpd00552, cpd00572, cpd00618, cpd00637, cpd00797, cpd00998, cpd01007, cpd01024, cpd01041, cpd01042, cpd01048, cpd01079, cpd01080, cpd01087, cpd01112, cpd01269, cpd01391, cpd01642, cpd01741, cpd01834, cpd03387, cpd03396, cpd03836, cpd03994, cpd04166, cpd04877, cpd05267, cpd09249, cpd09400, cpd09693, cpd09695, cpd11161, cpd11640, cpd15574 ))\n",
    "\n",
    "`%notin%` <- function (x, table) is.na(match(x, table, nomatch=NA_integer_))\n",
    "i=3\n",
    "\n",
    "while (i<=ncol(filtered_media)){\n",
    "    colname=names(filtered_media)[i]\n",
    "    chnoszID <- paste(filter(CHNOSZ_conv, id==colname)$CHNOSZ_id)\n",
    "    SEEDid <- filter(CHNOSZ_conv, id==colname)\n",
    "    if (chnoszID %notin% colnames(filtered_media)) {\n",
    "        names(filtered_media)[i] <- chnoszID\n",
    "    }\n",
    "    else {  #if applicable, combines enantiomers, or other species possibly \"identical\" in CHNOSZ\n",
    "        filtered_media[chnoszID] <- filtered_media[chnoszID] + filtered_media[i]\n",
    "    }\n",
    "    i=i+1\n",
    "}\n",
    "\n",
    "#Remove relic columns 2nd enantiomer or 2nd \"identical\" form\n",
    "reduced_media <- filtered_media %>% select(-starts_with(\"cpd\"))\n",
    "write.csv(reduced_media, \"reduced_media.csv\")\n",
    "\n",
    "print(filter(data.frame(summary(reduced_media)), grepl(\"Max\",Freq))) #Show max molality - i.e. how important is it in at least one case?"
   ]
  },
  {
   "cell_type": "markdown",
   "metadata": {},
   "source": [
    "## Look up potentially related species in CHNOSZ"
   ]
  },
  {
   "cell_type": "code",
   "execution_count": 8,
   "metadata": {},
   "outputs": [
    {
     "data": {
      "text/html": [
       "<table>\n",
       "<caption>A data.frame: 271 × 4</caption>\n",
       "<thead>\n",
       "\t<tr><th></th><th scope=col>name</th><th scope=col>abbrv</th><th scope=col>formula</th><th scope=col>state</th></tr>\n",
       "\t<tr><th></th><th scope=col>&lt;chr&gt;</th><th scope=col>&lt;chr&gt;</th><th scope=col>&lt;chr&gt;</th><th scope=col>&lt;chr&gt;</th></tr>\n",
       "</thead>\n",
       "<tbody>\n",
       "\t<tr><th scope=row>1</th><td>H2O2          </td><td>H2O2   </td><td>H2O2         </td><td>aq </td></tr>\n",
       "\t<tr><th scope=row>2</th><td>[-CH2OH]      </td><td>NA     </td><td>CH3O         </td><td>aq </td></tr>\n",
       "\t<tr><th scope=row>3</th><td>HPO4-2        </td><td>HPO4-2 </td><td>HPO4-2       </td><td>aq </td></tr>\n",
       "\t<tr><th scope=row>4</th><td>NH4+          </td><td>NH4+   </td><td>NH4+         </td><td>aq </td></tr>\n",
       "\t<tr><th scope=row>5</th><td>NH4CrO4-      </td><td>NA     </td><td>NH4CrO4-     </td><td>aq </td></tr>\n",
       "\t<tr><th scope=row>6</th><td>NH4(Ac)       </td><td>NA     </td><td>NH4CH3COO    </td><td>aq </td></tr>\n",
       "\t<tr><th scope=row>7</th><td>NH4(Ac)2-     </td><td>NA     </td><td>NH4(CH3COO)2-</td><td>aq </td></tr>\n",
       "\t<tr><th scope=row>8</th><td>NH4(Oxal)-    </td><td>NA     </td><td>NH4C2O4-     </td><td>aq </td></tr>\n",
       "\t<tr><th scope=row>9</th><td>NH4(Mal)-     </td><td>NA     </td><td>NH4C3H2O4-   </td><td>aq </td></tr>\n",
       "\t<tr><th scope=row>10</th><td>NH4(Succ)-    </td><td>NA     </td><td>NH4C4H4O4-   </td><td>aq </td></tr>\n",
       "\t<tr><th scope=row>11</th><td>pyruvate      </td><td>NA     </td><td>CH3COCOO-    </td><td>aq </td></tr>\n",
       "\t<tr><th scope=row>12</th><td>glutamate     </td><td>Glu-   </td><td>C5H8NO4-     </td><td>aq </td></tr>\n",
       "\t<tr><th scope=row>13</th><td>glutamic acid </td><td>Glu    </td><td>C5H9NO4      </td><td>aq </td></tr>\n",
       "\t<tr><th scope=row>14</th><td>glucose       </td><td>glucose</td><td>C6H12O6      </td><td>aq </td></tr>\n",
       "\t<tr><th scope=row>15</th><td>ethylacetate  </td><td>NA     </td><td>CH3COOCH2CH3 </td><td>aq </td></tr>\n",
       "\t<tr><th scope=row>16</th><td>acetate       </td><td>NA     </td><td>C2H3O2-      </td><td>aq </td></tr>\n",
       "\t<tr><th scope=row>17</th><td>H-oxaloacetate</td><td>NA     </td><td>C4H3O5-      </td><td>aq </td></tr>\n",
       "\t<tr><th scope=row>18</th><td>oxaloacetate-2</td><td>NA     </td><td>C4H2O5-2     </td><td>aq </td></tr>\n",
       "\t<tr><th scope=row>19</th><td>ethyl acetate </td><td>NA     </td><td>C4H8O2       </td><td>liq</td></tr>\n",
       "\t<tr><th scope=row>20</th><td>ethyl acetate </td><td>NA     </td><td>C4H8O2       </td><td>gas</td></tr>\n",
       "\t<tr><th scope=row>21</th><td>MnCl+         </td><td>MnCl+  </td><td>MnCl+        </td><td>aq </td></tr>\n",
       "\t<tr><th scope=row>22</th><td>MnSO4         </td><td>MnSO4  </td><td>MnSO4        </td><td>aq </td></tr>\n",
       "\t<tr><th scope=row>23</th><td>MnF+          </td><td>MnF+   </td><td>MnF+         </td><td>aq </td></tr>\n",
       "\t<tr><th scope=row>24</th><td>MnO4-         </td><td>MnO4-  </td><td>MnO4-        </td><td>aq </td></tr>\n",
       "\t<tr><th scope=row>25</th><td>Mn+2          </td><td>Mn+2   </td><td>Mn+2         </td><td>aq </td></tr>\n",
       "\t<tr><th scope=row>26</th><td>Mn+3          </td><td>Mn+3   </td><td>Mn+3         </td><td>aq </td></tr>\n",
       "\t<tr><th scope=row>27</th><td>MnO4-2        </td><td>MnO4-2 </td><td>MnO4-2       </td><td>aq </td></tr>\n",
       "\t<tr><th scope=row>28</th><td>MnOH+         </td><td>MnOH+  </td><td>MnOH+        </td><td>aq </td></tr>\n",
       "\t<tr><th scope=row>29</th><td>MnO           </td><td>MnO    </td><td>MnO          </td><td>aq </td></tr>\n",
       "\t<tr><th scope=row>30</th><td>HMnO2-        </td><td>HMnO2- </td><td>HMnO2-       </td><td>aq </td></tr>\n",
       "\t<tr><th scope=row>⋮</th><td>⋮</td><td>⋮</td><td>⋮</td><td>⋮</td></tr>\n",
       "\t<tr><th scope=row>1104</th><td>lactate       </td><td>NA     </td><td>C3H5O3-          </td><td>aq </td></tr>\n",
       "\t<tr><th scope=row>1105</th><td>n-hexanoate   </td><td>NA     </td><td>C6H11O2-         </td><td>aq </td></tr>\n",
       "\t<tr><th scope=row>1106</th><td>SCN-          </td><td>SCN-   </td><td>SCN-             </td><td>aq </td></tr>\n",
       "\t<tr><th scope=row>1107</th><td>S4O6-2        </td><td>S4O6-2 </td><td>S4O6-2           </td><td>aq </td></tr>\n",
       "\t<tr><th scope=row>1108</th><td>n-butanoate   </td><td>NA     </td><td>C4H7O2-          </td><td>aq </td></tr>\n",
       "\t<tr><th scope=row>1109</th><td>isocitric acid</td><td>NA     </td><td>C6H8O7           </td><td>aq </td></tr>\n",
       "\t<tr><th scope=row>212</th><td>citric acid   </td><td>NA     </td><td>C6H8O7           </td><td>aq </td></tr>\n",
       "\t<tr><th scope=row>312</th><td>citric acid   </td><td>NA     </td><td>C6H8O7           </td><td>cr </td></tr>\n",
       "\t<tr><th scope=row>1111</th><td>FeCl+         </td><td>FeCl+  </td><td>FeCl+            </td><td>aq </td></tr>\n",
       "\t<tr><th scope=row>213</th><td>Fe(Ac)+       </td><td>Fe(Ac)+</td><td>FeCH3COO+        </td><td>aq </td></tr>\n",
       "\t<tr><th scope=row>313</th><td>Fe(Ac)2       </td><td>Fe(Ac)2</td><td>Fe(CH3COO)2      </td><td>aq </td></tr>\n",
       "\t<tr><th scope=row>411</th><td>FeCl2         </td><td>FeCl2  </td><td>FeCl2            </td><td>aq </td></tr>\n",
       "\t<tr><th scope=row>511</th><td>FeCl+2        </td><td>FeCl+2 </td><td>FeCl+2           </td><td>aq </td></tr>\n",
       "\t<tr><th scope=row>611</th><td>FeF+          </td><td>FeF+   </td><td>FeF+             </td><td>aq </td></tr>\n",
       "\t<tr><th scope=row>711</th><td>FeF+2         </td><td>FeF+2  </td><td>FeF+2            </td><td>aq </td></tr>\n",
       "\t<tr><th scope=row>811</th><td>Fe+2          </td><td>Fe+2   </td><td>Fe+2             </td><td>aq </td></tr>\n",
       "\t<tr><th scope=row>911</th><td>Fe+3          </td><td>Fe+3   </td><td>Fe+3             </td><td>aq </td></tr>\n",
       "\t<tr><th scope=row>1011</th><td>FeOH+         </td><td>FeOH+  </td><td>FeOH+            </td><td>aq </td></tr>\n",
       "\t<tr><th scope=row>1112</th><td>FeO           </td><td>FeO    </td><td>FeO              </td><td>aq </td></tr>\n",
       "\t<tr><th scope=row>1211</th><td>HFeO2-        </td><td>HFeO2- </td><td>HFeO2-           </td><td>aq </td></tr>\n",
       "\t<tr><th scope=row>1311</th><td>FeOH+2        </td><td>FeOH+2 </td><td>FeOH+2           </td><td>aq </td></tr>\n",
       "\t<tr><th scope=row>1411</th><td>FeO+          </td><td>FeO+   </td><td>FeO+             </td><td>aq </td></tr>\n",
       "\t<tr><th scope=row>1511</th><td>HFeO2         </td><td>HFeO2  </td><td>HFeO2            </td><td>aq </td></tr>\n",
       "\t<tr><th scope=row>1611</th><td>FeO2-         </td><td>FeO2-  </td><td>FeO2-            </td><td>aq </td></tr>\n",
       "\t<tr><th scope=row>1711</th><td>iron          </td><td>Fe     </td><td>Fe               </td><td>cr </td></tr>\n",
       "\t<tr><th scope=row>1811</th><td>iron          </td><td>Fe     </td><td>Fe               </td><td>cr2</td></tr>\n",
       "\t<tr><th scope=row>1911</th><td>iron          </td><td>Fe     </td><td>Fe               </td><td>cr3</td></tr>\n",
       "\t<tr><th scope=row>205</th><td>iron          </td><td>Fe     </td><td>Fe               </td><td>cr4</td></tr>\n",
       "\t<tr><th scope=row>214</th><td>Fe-amesite    </td><td>Fe-Am  </td><td>Fe4Al4Si2O10(OH)8</td><td>cr </td></tr>\n",
       "\t<tr><th scope=row>1113</th><td>MoO4-2        </td><td>MoO4-2 </td><td>MoO4-2           </td><td>aq </td></tr>\n",
       "</tbody>\n",
       "</table>\n"
      ],
      "text/latex": [
       "A data.frame: 271 × 4\n",
       "\\begin{tabular}{r|llll}\n",
       "  & name & abbrv & formula & state\\\\\n",
       "  & <chr> & <chr> & <chr> & <chr>\\\\\n",
       "\\hline\n",
       "\t1 & H2O2           & H2O2    & H2O2          & aq \\\\\n",
       "\t2 & {[}-CH2OH{]}       & NA      & CH3O          & aq \\\\\n",
       "\t3 & HPO4-2         & HPO4-2  & HPO4-2        & aq \\\\\n",
       "\t4 & NH4+           & NH4+    & NH4+          & aq \\\\\n",
       "\t5 & NH4CrO4-       & NA      & NH4CrO4-      & aq \\\\\n",
       "\t6 & NH4(Ac)        & NA      & NH4CH3COO     & aq \\\\\n",
       "\t7 & NH4(Ac)2-      & NA      & NH4(CH3COO)2- & aq \\\\\n",
       "\t8 & NH4(Oxal)-     & NA      & NH4C2O4-      & aq \\\\\n",
       "\t9 & NH4(Mal)-      & NA      & NH4C3H2O4-    & aq \\\\\n",
       "\t10 & NH4(Succ)-     & NA      & NH4C4H4O4-    & aq \\\\\n",
       "\t11 & pyruvate       & NA      & CH3COCOO-     & aq \\\\\n",
       "\t12 & glutamate      & Glu-    & C5H8NO4-      & aq \\\\\n",
       "\t13 & glutamic acid  & Glu     & C5H9NO4       & aq \\\\\n",
       "\t14 & glucose        & glucose & C6H12O6       & aq \\\\\n",
       "\t15 & ethylacetate   & NA      & CH3COOCH2CH3  & aq \\\\\n",
       "\t16 & acetate        & NA      & C2H3O2-       & aq \\\\\n",
       "\t17 & H-oxaloacetate & NA      & C4H3O5-       & aq \\\\\n",
       "\t18 & oxaloacetate-2 & NA      & C4H2O5-2      & aq \\\\\n",
       "\t19 & ethyl acetate  & NA      & C4H8O2        & liq\\\\\n",
       "\t20 & ethyl acetate  & NA      & C4H8O2        & gas\\\\\n",
       "\t21 & MnCl+          & MnCl+   & MnCl+         & aq \\\\\n",
       "\t22 & MnSO4          & MnSO4   & MnSO4         & aq \\\\\n",
       "\t23 & MnF+           & MnF+    & MnF+          & aq \\\\\n",
       "\t24 & MnO4-          & MnO4-   & MnO4-         & aq \\\\\n",
       "\t25 & Mn+2           & Mn+2    & Mn+2          & aq \\\\\n",
       "\t26 & Mn+3           & Mn+3    & Mn+3          & aq \\\\\n",
       "\t27 & MnO4-2         & MnO4-2  & MnO4-2        & aq \\\\\n",
       "\t28 & MnOH+          & MnOH+   & MnOH+         & aq \\\\\n",
       "\t29 & MnO            & MnO     & MnO           & aq \\\\\n",
       "\t30 & HMnO2-         & HMnO2-  & HMnO2-        & aq \\\\\n",
       "\t⋮ & ⋮ & ⋮ & ⋮ & ⋮\\\\\n",
       "\t1104 & lactate        & NA      & C3H5O3-           & aq \\\\\n",
       "\t1105 & n-hexanoate    & NA      & C6H11O2-          & aq \\\\\n",
       "\t1106 & SCN-           & SCN-    & SCN-              & aq \\\\\n",
       "\t1107 & S4O6-2         & S4O6-2  & S4O6-2            & aq \\\\\n",
       "\t1108 & n-butanoate    & NA      & C4H7O2-           & aq \\\\\n",
       "\t1109 & isocitric acid & NA      & C6H8O7            & aq \\\\\n",
       "\t212 & citric acid    & NA      & C6H8O7            & aq \\\\\n",
       "\t312 & citric acid    & NA      & C6H8O7            & cr \\\\\n",
       "\t1111 & FeCl+          & FeCl+   & FeCl+             & aq \\\\\n",
       "\t213 & Fe(Ac)+        & Fe(Ac)+ & FeCH3COO+         & aq \\\\\n",
       "\t313 & Fe(Ac)2        & Fe(Ac)2 & Fe(CH3COO)2       & aq \\\\\n",
       "\t411 & FeCl2          & FeCl2   & FeCl2             & aq \\\\\n",
       "\t511 & FeCl+2         & FeCl+2  & FeCl+2            & aq \\\\\n",
       "\t611 & FeF+           & FeF+    & FeF+              & aq \\\\\n",
       "\t711 & FeF+2          & FeF+2   & FeF+2             & aq \\\\\n",
       "\t811 & Fe+2           & Fe+2    & Fe+2              & aq \\\\\n",
       "\t911 & Fe+3           & Fe+3    & Fe+3              & aq \\\\\n",
       "\t1011 & FeOH+          & FeOH+   & FeOH+             & aq \\\\\n",
       "\t1112 & FeO            & FeO     & FeO               & aq \\\\\n",
       "\t1211 & HFeO2-         & HFeO2-  & HFeO2-            & aq \\\\\n",
       "\t1311 & FeOH+2         & FeOH+2  & FeOH+2            & aq \\\\\n",
       "\t1411 & FeO+           & FeO+    & FeO+              & aq \\\\\n",
       "\t1511 & HFeO2          & HFeO2   & HFeO2             & aq \\\\\n",
       "\t1611 & FeO2-          & FeO2-   & FeO2-             & aq \\\\\n",
       "\t1711 & iron           & Fe      & Fe                & cr \\\\\n",
       "\t1811 & iron           & Fe      & Fe                & cr2\\\\\n",
       "\t1911 & iron           & Fe      & Fe                & cr3\\\\\n",
       "\t205 & iron           & Fe      & Fe                & cr4\\\\\n",
       "\t214 & Fe-amesite     & Fe-Am   & Fe4Al4Si2O10(OH)8 & cr \\\\\n",
       "\t1113 & MoO4-2         & MoO4-2  & MoO4-2            & aq \\\\\n",
       "\\end{tabular}\n"
      ],
      "text/markdown": [
       "\n",
       "A data.frame: 271 × 4\n",
       "\n",
       "| <!--/--> | name &lt;chr&gt; | abbrv &lt;chr&gt; | formula &lt;chr&gt; | state &lt;chr&gt; |\n",
       "|---|---|---|---|---|\n",
       "| 1 | H2O2           | H2O2    | H2O2          | aq  |\n",
       "| 2 | [-CH2OH]       | NA      | CH3O          | aq  |\n",
       "| 3 | HPO4-2         | HPO4-2  | HPO4-2        | aq  |\n",
       "| 4 | NH4+           | NH4+    | NH4+          | aq  |\n",
       "| 5 | NH4CrO4-       | NA      | NH4CrO4-      | aq  |\n",
       "| 6 | NH4(Ac)        | NA      | NH4CH3COO     | aq  |\n",
       "| 7 | NH4(Ac)2-      | NA      | NH4(CH3COO)2- | aq  |\n",
       "| 8 | NH4(Oxal)-     | NA      | NH4C2O4-      | aq  |\n",
       "| 9 | NH4(Mal)-      | NA      | NH4C3H2O4-    | aq  |\n",
       "| 10 | NH4(Succ)-     | NA      | NH4C4H4O4-    | aq  |\n",
       "| 11 | pyruvate       | NA      | CH3COCOO-     | aq  |\n",
       "| 12 | glutamate      | Glu-    | C5H8NO4-      | aq  |\n",
       "| 13 | glutamic acid  | Glu     | C5H9NO4       | aq  |\n",
       "| 14 | glucose        | glucose | C6H12O6       | aq  |\n",
       "| 15 | ethylacetate   | NA      | CH3COOCH2CH3  | aq  |\n",
       "| 16 | acetate        | NA      | C2H3O2-       | aq  |\n",
       "| 17 | H-oxaloacetate | NA      | C4H3O5-       | aq  |\n",
       "| 18 | oxaloacetate-2 | NA      | C4H2O5-2      | aq  |\n",
       "| 19 | ethyl acetate  | NA      | C4H8O2        | liq |\n",
       "| 20 | ethyl acetate  | NA      | C4H8O2        | gas |\n",
       "| 21 | MnCl+          | MnCl+   | MnCl+         | aq  |\n",
       "| 22 | MnSO4          | MnSO4   | MnSO4         | aq  |\n",
       "| 23 | MnF+           | MnF+    | MnF+          | aq  |\n",
       "| 24 | MnO4-          | MnO4-   | MnO4-         | aq  |\n",
       "| 25 | Mn+2           | Mn+2    | Mn+2          | aq  |\n",
       "| 26 | Mn+3           | Mn+3    | Mn+3          | aq  |\n",
       "| 27 | MnO4-2         | MnO4-2  | MnO4-2        | aq  |\n",
       "| 28 | MnOH+          | MnOH+   | MnOH+         | aq  |\n",
       "| 29 | MnO            | MnO     | MnO           | aq  |\n",
       "| 30 | HMnO2-         | HMnO2-  | HMnO2-        | aq  |\n",
       "| ⋮ | ⋮ | ⋮ | ⋮ | ⋮ |\n",
       "| 1104 | lactate        | NA      | C3H5O3-           | aq  |\n",
       "| 1105 | n-hexanoate    | NA      | C6H11O2-          | aq  |\n",
       "| 1106 | SCN-           | SCN-    | SCN-              | aq  |\n",
       "| 1107 | S4O6-2         | S4O6-2  | S4O6-2            | aq  |\n",
       "| 1108 | n-butanoate    | NA      | C4H7O2-           | aq  |\n",
       "| 1109 | isocitric acid | NA      | C6H8O7            | aq  |\n",
       "| 212 | citric acid    | NA      | C6H8O7            | aq  |\n",
       "| 312 | citric acid    | NA      | C6H8O7            | cr  |\n",
       "| 1111 | FeCl+          | FeCl+   | FeCl+             | aq  |\n",
       "| 213 | Fe(Ac)+        | Fe(Ac)+ | FeCH3COO+         | aq  |\n",
       "| 313 | Fe(Ac)2        | Fe(Ac)2 | Fe(CH3COO)2       | aq  |\n",
       "| 411 | FeCl2          | FeCl2   | FeCl2             | aq  |\n",
       "| 511 | FeCl+2         | FeCl+2  | FeCl+2            | aq  |\n",
       "| 611 | FeF+           | FeF+    | FeF+              | aq  |\n",
       "| 711 | FeF+2          | FeF+2   | FeF+2             | aq  |\n",
       "| 811 | Fe+2           | Fe+2    | Fe+2              | aq  |\n",
       "| 911 | Fe+3           | Fe+3    | Fe+3              | aq  |\n",
       "| 1011 | FeOH+          | FeOH+   | FeOH+             | aq  |\n",
       "| 1112 | FeO            | FeO     | FeO               | aq  |\n",
       "| 1211 | HFeO2-         | HFeO2-  | HFeO2-            | aq  |\n",
       "| 1311 | FeOH+2         | FeOH+2  | FeOH+2            | aq  |\n",
       "| 1411 | FeO+           | FeO+    | FeO+              | aq  |\n",
       "| 1511 | HFeO2          | HFeO2   | HFeO2             | aq  |\n",
       "| 1611 | FeO2-          | FeO2-   | FeO2-             | aq  |\n",
       "| 1711 | iron           | Fe      | Fe                | cr  |\n",
       "| 1811 | iron           | Fe      | Fe                | cr2 |\n",
       "| 1911 | iron           | Fe      | Fe                | cr3 |\n",
       "| 205 | iron           | Fe      | Fe                | cr4 |\n",
       "| 214 | Fe-amesite     | Fe-Am   | Fe4Al4Si2O10(OH)8 | cr  |\n",
       "| 1113 | MoO4-2         | MoO4-2  | MoO4-2            | aq  |\n",
       "\n"
      ],
      "text/plain": [
       "     name           abbrv   formula           state\n",
       "1    H2O2           H2O2    H2O2              aq   \n",
       "2    [-CH2OH]       NA      CH3O              aq   \n",
       "3    HPO4-2         HPO4-2  HPO4-2            aq   \n",
       "4    NH4+           NH4+    NH4+              aq   \n",
       "5    NH4CrO4-       NA      NH4CrO4-          aq   \n",
       "6    NH4(Ac)        NA      NH4CH3COO         aq   \n",
       "7    NH4(Ac)2-      NA      NH4(CH3COO)2-     aq   \n",
       "8    NH4(Oxal)-     NA      NH4C2O4-          aq   \n",
       "9    NH4(Mal)-      NA      NH4C3H2O4-        aq   \n",
       "10   NH4(Succ)-     NA      NH4C4H4O4-        aq   \n",
       "11   pyruvate       NA      CH3COCOO-         aq   \n",
       "12   glutamate      Glu-    C5H8NO4-          aq   \n",
       "13   glutamic acid  Glu     C5H9NO4           aq   \n",
       "14   glucose        glucose C6H12O6           aq   \n",
       "15   ethylacetate   NA      CH3COOCH2CH3      aq   \n",
       "16   acetate        NA      C2H3O2-           aq   \n",
       "17   H-oxaloacetate NA      C4H3O5-           aq   \n",
       "18   oxaloacetate-2 NA      C4H2O5-2          aq   \n",
       "19   ethyl acetate  NA      C4H8O2            liq  \n",
       "20   ethyl acetate  NA      C4H8O2            gas  \n",
       "21   MnCl+          MnCl+   MnCl+             aq   \n",
       "22   MnSO4          MnSO4   MnSO4             aq   \n",
       "23   MnF+           MnF+    MnF+              aq   \n",
       "24   MnO4-          MnO4-   MnO4-             aq   \n",
       "25   Mn+2           Mn+2    Mn+2              aq   \n",
       "26   Mn+3           Mn+3    Mn+3              aq   \n",
       "27   MnO4-2         MnO4-2  MnO4-2            aq   \n",
       "28   MnOH+          MnOH+   MnOH+             aq   \n",
       "29   MnO            MnO     MnO               aq   \n",
       "30   HMnO2-         HMnO2-  HMnO2-            aq   \n",
       "⋮    ⋮              ⋮       ⋮                 ⋮    \n",
       "1104 lactate        NA      C3H5O3-           aq   \n",
       "1105 n-hexanoate    NA      C6H11O2-          aq   \n",
       "1106 SCN-           SCN-    SCN-              aq   \n",
       "1107 S4O6-2         S4O6-2  S4O6-2            aq   \n",
       "1108 n-butanoate    NA      C4H7O2-           aq   \n",
       "1109 isocitric acid NA      C6H8O7            aq   \n",
       "212  citric acid    NA      C6H8O7            aq   \n",
       "312  citric acid    NA      C6H8O7            cr   \n",
       "1111 FeCl+          FeCl+   FeCl+             aq   \n",
       "213  Fe(Ac)+        Fe(Ac)+ FeCH3COO+         aq   \n",
       "313  Fe(Ac)2        Fe(Ac)2 Fe(CH3COO)2       aq   \n",
       "411  FeCl2          FeCl2   FeCl2             aq   \n",
       "511  FeCl+2         FeCl+2  FeCl+2            aq   \n",
       "611  FeF+           FeF+    FeF+              aq   \n",
       "711  FeF+2          FeF+2   FeF+2             aq   \n",
       "811  Fe+2           Fe+2    Fe+2              aq   \n",
       "911  Fe+3           Fe+3    Fe+3              aq   \n",
       "1011 FeOH+          FeOH+   FeOH+             aq   \n",
       "1112 FeO            FeO     FeO               aq   \n",
       "1211 HFeO2-         HFeO2-  HFeO2-            aq   \n",
       "1311 FeOH+2         FeOH+2  FeOH+2            aq   \n",
       "1411 FeO+           FeO+    FeO+              aq   \n",
       "1511 HFeO2          HFeO2   HFeO2             aq   \n",
       "1611 FeO2-          FeO2-   FeO2-             aq   \n",
       "1711 iron           Fe      Fe                cr   \n",
       "1811 iron           Fe      Fe                cr2  \n",
       "1911 iron           Fe      Fe                cr3  \n",
       "205  iron           Fe      Fe                cr4  \n",
       "214  Fe-amesite     Fe-Am   Fe4Al4Si2O10(OH)8 cr   \n",
       "1113 MoO4-2         MoO4-2  MoO4-2            aq   "
      ]
     },
     "metadata": {},
     "output_type": "display_data"
    }
   ],
   "source": [
    "speciesname <- (names(reduced_media))[-c(1,2)]\n",
    "species <- data.frame(speciesname)\n",
    "queries <- data.frame(check.names=TRUE, name=character(), abbrv=character(), formula=character(), state=character())\n",
    "for (i in species$speciesname){\n",
    "    query1 <- filter(CHNOSZ$thermo$obigt, str_detect(name, paste(i))==TRUE)[c(1,2,3,4)] #$#, str_detect(abbrv, 'NAD')==TRUE)'\n",
    "    query2 <- filter(CHNOSZ$thermo$obigt, str_detect(name, paste(i))==FALSE, str_detect(abbrv, paste(i))==TRUE)[c(1,2,3,4)]\n",
    "\n",
    "    poss_relat <- str_to_title(paste(substr(i[1], start=1, stop=3)))\n",
    "    #cap1 <- str_to_title(paste(i[1:3]))\n",
    "    query3 <- filter(CHNOSZ$thermo$obigt, str_detect(name, paste(i))==FALSE, str_detect(abbrv, paste(i))==FALSE, str_detect(abbrv, paste(poss_relat))==TRUE)[c(1,2,3,4)]\n",
    "    queries <- rbind(queries, query1, query2, query3)\n",
    "    queries <- queries[!duplicated(queries), ]\n",
    "}\n",
    "\n",
    "write.csv(queries, \"candidate_compounds.csv\")\n",
    "\n",
    "queries"
   ]
  },
  {
   "cell_type": "markdown",
   "metadata": {},
   "source": [
    "# (to be continued...)"
   ]
  },
  {
   "cell_type": "code",
   "execution_count": null,
   "metadata": {},
   "outputs": [],
   "source": []
  }
 ],
 "metadata": {
  "kernelspec": {
   "display_name": "R",
   "language": "R",
   "name": "ir"
  },
  "language_info": {
   "codemirror_mode": "r",
   "file_extension": ".r",
   "mimetype": "text/x-r-source",
   "name": "R",
   "pygments_lexer": "r",
   "version": "3.4.4"
  }
 },
 "nbformat": 4,
 "nbformat_minor": 2
}
